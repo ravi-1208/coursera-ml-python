{
 "metadata": {
  "name": ""
 },
 "nbformat": 3,
 "nbformat_minor": 0,
 "worksheets": [
  {
   "cells": [
    {
     "cell_type": "code",
     "collapsed": false,
     "input": [
      "# it's in mat format in the course, but can be convert to txt in octave: \n",
      "# load('ex4weights.mat');\n",
      "# save('ex4theta1.txt', 'Theta1', '-ascii')\n",
      "# save('ex4theta2.txt', 'Theta2', '-ascii')\n",
      "\n",
      "def load_theta():\n",
      "    theta1 = np.array([map(float, line.split()) for line in open('data/ex4theta1.txt')], np.float)\n",
      "    theta2 = np.array([map(float, line.split()) for line in open('data/ex4theta2.txt')], np.float)\n",
      "    print theta1.shape, theta2.shape\n",
      "    return theta1, theta2\n",
      "\n",
      "theta1, theta2 = load_theta()"
     ],
     "language": "python",
     "metadata": {},
     "outputs": [
      {
       "output_type": "stream",
       "stream": "stdout",
       "text": [
        "(25, 401) (10, 26)\n"
       ]
      }
     ],
     "prompt_number": 1
    },
    {
     "cell_type": "code",
     "collapsed": false,
     "input": [
      "# load the ex4data1\n",
      "# it's in mat format in the course, but can be convert to txt in octave: \n",
      "# save('ex4data1.txt', 'X', '-ascii')\n",
      "# save('ex4data1.y.txt', 'y', '-ascii')\n",
      "\n",
      "import numpy\n",
      "\n",
      "def load_dataset():\n",
      "    data = []\n",
      "    y = []    \n",
      "    for line in open('data/ex4data1.txt'):\n",
      "        data.append(map(double, line.split()))\n",
      "    for line in open('data/ex4data1.y.txt'):\n",
      "        y.append(int(float(line.strip())))\n",
      "        \n",
      "    return np.array(data, np.double), np.array(y, np.int)\n",
      "    \n",
      "X, y = load_dataset()"
     ],
     "language": "python",
     "metadata": {},
     "outputs": [],
     "prompt_number": 2
    },
    {
     "cell_type": "code",
     "collapsed": false,
     "input": [
      "from sklearn.base import BaseEstimator\n",
      "import numpy as np\n",
      "import lbfgs\n",
      "\n",
      "class NN(BaseEstimator):\n",
      "    \n",
      "    def __init__(self, input_layer_size=400, hidden_layer_size=25, num_labels=10, C=1.0):\n",
      "        self.input_layer_size = input_layer_size\n",
      "        self.hidden_layer_size = hidden_layer_size\n",
      "        self.num_labels = num_labels\n",
      "        self.C = C\n",
      "        super(NN, self).__init__()\n",
      "        \n",
      "    def fit(self, X, y):\n",
      "        \n",
      "        def progress(x, g, f_x, xnorm, gnorm, step, k, ls):\n",
      "            print('%.2f' %f_x)\n",
      "\n",
      "        def fprime(params):\n",
      "            self.theta1, self.theta2 = self._unroll_params(params)    \n",
      "            theta1_g = np.zeros_like(self.theta1)\n",
      "            theta2_g = np.zeros_like(self.theta2)\n",
      "            \n",
      "            for i in range(X.shape[0]):\n",
      "\n",
      "                # a1\n",
      "                x = np.hstack((1, X[i]))\n",
      "\n",
      "                # a2 and z2\n",
      "                z2 = np.dot(self.theta1, x)\n",
      "                a2 = np.hstack((1, self._sigmoid(z2)))\n",
      "\n",
      "                # a3 and z3\n",
      "                z3 = np.dot(self.theta2, a2)\n",
      "                a3 = self._sigmoid(z3)\n",
      "\n",
      "                yt = np.asarray([0]* self.num_labels)\n",
      "                yt[y[i]-1] = 1\n",
      "\n",
      "                delta_3 = a3 - yt\n",
      "                delta_2 = np.dot(self.theta2.T, delta_3) * self._sigmoid_gradient(np.hstack((1, z2)))\n",
      "                delta_2 = delta_2[1:]\n",
      "\n",
      "                theta1_g += np.dot(np.atleast_2d(delta_2).T, np.atleast_2d(x))\n",
      "                theta2_g += np.dot(np.atleast_2d(delta_3).T, np.atleast_2d(a2))\n",
      "\n",
      "            # add regularization term\n",
      "            theta1_g[1:] += self.C * self.theta1[1:]\n",
      "            theta2_g[1:] += self.C * self.theta2[1:]\n",
      "            \n",
      "            theta1_g /= X.shape[0]\n",
      "            theta2_g /= X.shape[0]            \n",
      "            \n",
      "            return flatten_params(theta1_g, theta2_g)\n",
      "                \n",
      "        def f(params, g):       \n",
      "            g[:] = fprime(params)\n",
      "            return self.cost_function(params, X, y)\n",
      "            \n",
      "        theta1 = init_random_params(self.input_layer_size, self.hidden_layer_size)\n",
      "        theta2 = init_random_params(self.hidden_layer_size, self.num_labels)\n",
      "\n",
      "        params = flatten_params(theta1, theta2)\n",
      "        try:\n",
      "            lbfgs.fmin_lbfgs(f, params, progress=progress)\n",
      "        except Exception, e:\n",
      "            print repr(e)\n",
      "        \n",
      "        return self\n",
      "        \n",
      "    def cost_function(self, params, X, y):\n",
      "        self.theta1, self.theta2 = self._unroll_params(params)                                \n",
      "        y2 = np.zeros((X.shape[0], max(y)), np.int)\n",
      "        for i in range(X.shape[0]):\n",
      "            y2[i][y[i] - 1] = 1\n",
      "        probs = self.predict_prob(X)\n",
      "        J = -(sum(y2 * np.log(probs) + (1 - y2) * np.log(1 - probs)) / X.shape[0])\n",
      "        theta1 = self.theta1[:, 1:]\n",
      "        theta2 = self.theta2[:, 1:]\n",
      "        regularization_term = 0.5 * self.C * (sum(theta1 ** 2) + sum(theta2 ** 2)) / X.shape[0]\n",
      "        return J + regularization_term\n",
      "        \n",
      "    def predict(self, X):\n",
      "        probs = self.predict_prob(X)\n",
      "        return np.argmax(probs, axis=1) + 1\n",
      "\n",
      "    def predict_prob(self, X):\n",
      "        X2 = np.hstack((np.ones((X.shape[0], 1)), X))\n",
      "        X3 = self._sigmoid(np.dot(X2, self.theta1.T))\n",
      "        X3 = np.hstack((np.ones((X3.shape[0], 1)), X3))\n",
      "        return self._sigmoid(np.dot(X3, self.theta2.T))\n",
      "        \n",
      "    def _sigmoid(self, X):\n",
      "        return 1 / (1 + np.exp(-X))\n",
      "    \n",
      "    def _sigmoid_gradient(self, x):\n",
      "        return self._sigmoid(x) * (1 - self._sigmoid(x));\n",
      "    \n",
      "    def _unroll_params(self, nn_params):\n",
      "        index = self.hidden_layer_size * (self.input_layer_size + 1)\n",
      "        theta1 = nn_params[:index].reshape((self.hidden_layer_size, (self.input_layer_size + 1)))\n",
      "        theta2 = nn_params[index:].reshape((self.num_labels, self.hidden_layer_size + 1))\n",
      "        return theta1, theta2\n",
      "\n",
      "def init_random_params(lin, lout):\n",
      "    epsilon_init = sqrt(6) / sqrt(lin + lout)\n",
      "    return np.random.randn(lin + 1, lout) * 2 * epsilon_init - epsilon_init\n",
      "\n",
      "def flatten_params(theta1, theta2):\n",
      "    return np.asarray(theta1.ravel().tolist() + theta2.ravel().tolist())\n",
      "\n",
      "nn_params = flatten_params(theta1, theta2)\n",
      "nn = NN()\n",
      "print nn.cost_function(nn_params, X, y)"
     ],
     "language": "python",
     "metadata": {},
     "outputs": [
      {
       "output_type": "stream",
       "stream": "stdout",
       "text": [
        "0.383769859147\n"
       ]
      }
     ],
     "prompt_number": 5
    },
    {
     "cell_type": "code",
     "collapsed": false,
     "input": [
      "%%time\n",
      "from sklearn.cross_validation import train_test_split\n",
      "from sklearn.metrics import confusion_matrix, accuracy_score, recall_score, precision_score\n",
      "\n",
      "X_train, X_test, y_train, y_test = train_test_split(X, y, test_size=0.4)\n",
      "nn = NN()\n",
      "nn.fit(X_train, y_train)\n",
      "\n",
      "predicted = nn.predict(X_test)\n",
      "print 'accuracy', accuracy_score(predicted, y_test)\n",
      "print confusion_matrix(predicted, y_test)"
     ],
     "language": "python",
     "metadata": {},
     "outputs": [
      {
       "output_type": "stream",
       "stream": "stdout",
       "text": [
        "6.25\n",
        "3.74"
       ]
      },
      {
       "output_type": "stream",
       "stream": "stdout",
       "text": [
        "\n",
        "3.48"
       ]
      },
      {
       "output_type": "stream",
       "stream": "stdout",
       "text": [
        "\n",
        "3.40"
       ]
      },
      {
       "output_type": "stream",
       "stream": "stdout",
       "text": [
        "\n",
        "3.27"
       ]
      },
      {
       "output_type": "stream",
       "stream": "stdout",
       "text": [
        "\n",
        "3.14"
       ]
      },
      {
       "output_type": "stream",
       "stream": "stdout",
       "text": [
        "\n",
        "2.98"
       ]
      },
      {
       "output_type": "stream",
       "stream": "stdout",
       "text": [
        "\n",
        "2.80"
       ]
      },
      {
       "output_type": "stream",
       "stream": "stdout",
       "text": [
        "\n",
        "2.57"
       ]
      },
      {
       "output_type": "stream",
       "stream": "stdout",
       "text": [
        "\n",
        "2.33"
       ]
      },
      {
       "output_type": "stream",
       "stream": "stdout",
       "text": [
        "\n",
        "2.10"
       ]
      },
      {
       "output_type": "stream",
       "stream": "stdout",
       "text": [
        "\n",
        "1.93"
       ]
      },
      {
       "output_type": "stream",
       "stream": "stdout",
       "text": [
        "\n",
        "1.79"
       ]
      },
      {
       "output_type": "stream",
       "stream": "stdout",
       "text": [
        "\n",
        "1.60"
       ]
      },
      {
       "output_type": "stream",
       "stream": "stdout",
       "text": [
        "\n",
        "1.45"
       ]
      },
      {
       "output_type": "stream",
       "stream": "stdout",
       "text": [
        "\n",
        "1.38"
       ]
      },
      {
       "output_type": "stream",
       "stream": "stdout",
       "text": [
        "\n",
        "1.31"
       ]
      },
      {
       "output_type": "stream",
       "stream": "stdout",
       "text": [
        "\n",
        "1.26"
       ]
      },
      {
       "output_type": "stream",
       "stream": "stdout",
       "text": [
        "\n",
        "1.19"
       ]
      },
      {
       "output_type": "stream",
       "stream": "stdout",
       "text": [
        "\n",
        "1.11"
       ]
      },
      {
       "output_type": "stream",
       "stream": "stdout",
       "text": [
        "\n",
        "1.08"
       ]
      },
      {
       "output_type": "stream",
       "stream": "stdout",
       "text": [
        "\n",
        "1.03"
       ]
      },
      {
       "output_type": "stream",
       "stream": "stdout",
       "text": [
        "\n",
        "1.00"
       ]
      },
      {
       "output_type": "stream",
       "stream": "stdout",
       "text": [
        "\n",
        "0.96"
       ]
      },
      {
       "output_type": "stream",
       "stream": "stdout",
       "text": [
        "\n",
        "0.93"
       ]
      },
      {
       "output_type": "stream",
       "stream": "stdout",
       "text": [
        "\n",
        "0.91"
       ]
      },
      {
       "output_type": "stream",
       "stream": "stdout",
       "text": [
        "\n",
        "0.88"
       ]
      },
      {
       "output_type": "stream",
       "stream": "stdout",
       "text": [
        "\n",
        "0.85"
       ]
      },
      {
       "output_type": "stream",
       "stream": "stdout",
       "text": [
        "\n",
        "0.84"
       ]
      },
      {
       "output_type": "stream",
       "stream": "stdout",
       "text": [
        "\n",
        "0.80"
       ]
      },
      {
       "output_type": "stream",
       "stream": "stdout",
       "text": [
        "\n",
        "0.79"
       ]
      },
      {
       "output_type": "stream",
       "stream": "stdout",
       "text": [
        "\n",
        "0.76"
       ]
      },
      {
       "output_type": "stream",
       "stream": "stdout",
       "text": [
        "\n",
        "0.75"
       ]
      },
      {
       "output_type": "stream",
       "stream": "stdout",
       "text": [
        "\n",
        "0.73"
       ]
      },
      {
       "output_type": "stream",
       "stream": "stdout",
       "text": [
        "\n",
        "0.72"
       ]
      },
      {
       "output_type": "stream",
       "stream": "stdout",
       "text": [
        "\n",
        "0.70"
       ]
      },
      {
       "output_type": "stream",
       "stream": "stdout",
       "text": [
        "\n",
        "0.69"
       ]
      },
      {
       "output_type": "stream",
       "stream": "stdout",
       "text": [
        "\n",
        "0.68"
       ]
      },
      {
       "output_type": "stream",
       "stream": "stdout",
       "text": [
        "\n",
        "0.67"
       ]
      },
      {
       "output_type": "stream",
       "stream": "stdout",
       "text": [
        "\n",
        "0.66"
       ]
      },
      {
       "output_type": "stream",
       "stream": "stdout",
       "text": [
        "\n",
        "0.65"
       ]
      },
      {
       "output_type": "stream",
       "stream": "stdout",
       "text": [
        "\n",
        "0.64"
       ]
      },
      {
       "output_type": "stream",
       "stream": "stdout",
       "text": [
        "\n",
        "0.63"
       ]
      },
      {
       "output_type": "stream",
       "stream": "stdout",
       "text": [
        "\n",
        "0.62"
       ]
      },
      {
       "output_type": "stream",
       "stream": "stdout",
       "text": [
        "\n",
        "0.61"
       ]
      },
      {
       "output_type": "stream",
       "stream": "stdout",
       "text": [
        "\n",
        "0.61"
       ]
      },
      {
       "output_type": "stream",
       "stream": "stdout",
       "text": [
        "\n",
        "0.60"
       ]
      },
      {
       "output_type": "stream",
       "stream": "stdout",
       "text": [
        "\n",
        "0.59"
       ]
      },
      {
       "output_type": "stream",
       "stream": "stdout",
       "text": [
        "\n",
        "0.59"
       ]
      },
      {
       "output_type": "stream",
       "stream": "stdout",
       "text": [
        "\n",
        "0.59"
       ]
      },
      {
       "output_type": "stream",
       "stream": "stdout",
       "text": [
        "\n",
        "0.58"
       ]
      },
      {
       "output_type": "stream",
       "stream": "stdout",
       "text": [
        "\n",
        "0.57"
       ]
      },
      {
       "output_type": "stream",
       "stream": "stdout",
       "text": [
        "\n",
        "0.57"
       ]
      },
      {
       "output_type": "stream",
       "stream": "stdout",
       "text": [
        "\n",
        "0.57"
       ]
      },
      {
       "output_type": "stream",
       "stream": "stdout",
       "text": [
        "\n",
        "0.56"
       ]
      },
      {
       "output_type": "stream",
       "stream": "stdout",
       "text": [
        "\n",
        "0.56"
       ]
      },
      {
       "output_type": "stream",
       "stream": "stdout",
       "text": [
        "\n",
        "0.55"
       ]
      },
      {
       "output_type": "stream",
       "stream": "stdout",
       "text": [
        "\n",
        "0.55"
       ]
      },
      {
       "output_type": "stream",
       "stream": "stdout",
       "text": [
        "\n",
        "0.55"
       ]
      },
      {
       "output_type": "stream",
       "stream": "stdout",
       "text": [
        "\n",
        "0.54"
       ]
      },
      {
       "output_type": "stream",
       "stream": "stdout",
       "text": [
        "\n",
        "0.54"
       ]
      },
      {
       "output_type": "stream",
       "stream": "stdout",
       "text": [
        "\n",
        "0.54"
       ]
      },
      {
       "output_type": "stream",
       "stream": "stdout",
       "text": [
        "\n",
        "0.54"
       ]
      },
      {
       "output_type": "stream",
       "stream": "stdout",
       "text": [
        "\n",
        "0.53"
       ]
      },
      {
       "output_type": "stream",
       "stream": "stdout",
       "text": [
        "\n",
        "0.53"
       ]
      },
      {
       "output_type": "stream",
       "stream": "stdout",
       "text": [
        "\n",
        "0.53"
       ]
      },
      {
       "output_type": "stream",
       "stream": "stdout",
       "text": [
        "\n",
        "0.53"
       ]
      },
      {
       "output_type": "stream",
       "stream": "stdout",
       "text": [
        "\n",
        "0.53"
       ]
      },
      {
       "output_type": "stream",
       "stream": "stdout",
       "text": [
        "\n",
        "0.52"
       ]
      },
      {
       "output_type": "stream",
       "stream": "stdout",
       "text": [
        "\n",
        "0.52"
       ]
      },
      {
       "output_type": "stream",
       "stream": "stdout",
       "text": [
        "\n",
        "0.52"
       ]
      },
      {
       "output_type": "stream",
       "stream": "stdout",
       "text": [
        "\n",
        "0.52"
       ]
      },
      {
       "output_type": "stream",
       "stream": "stdout",
       "text": [
        "\n",
        "0.52"
       ]
      },
      {
       "output_type": "stream",
       "stream": "stdout",
       "text": [
        "\n",
        "0.51"
       ]
      },
      {
       "output_type": "stream",
       "stream": "stdout",
       "text": [
        "\n",
        "0.51"
       ]
      },
      {
       "output_type": "stream",
       "stream": "stdout",
       "text": [
        "\n",
        "0.51"
       ]
      },
      {
       "output_type": "stream",
       "stream": "stdout",
       "text": [
        "\n",
        "0.51"
       ]
      },
      {
       "output_type": "stream",
       "stream": "stdout",
       "text": [
        "\n",
        "0.51"
       ]
      },
      {
       "output_type": "stream",
       "stream": "stdout",
       "text": [
        "\n",
        "0.51"
       ]
      },
      {
       "output_type": "stream",
       "stream": "stdout",
       "text": [
        "\n",
        "0.51"
       ]
      },
      {
       "output_type": "stream",
       "stream": "stdout",
       "text": [
        "\n",
        "0.51"
       ]
      },
      {
       "output_type": "stream",
       "stream": "stdout",
       "text": [
        "\n",
        "0.51"
       ]
      },
      {
       "output_type": "stream",
       "stream": "stdout",
       "text": [
        "\n",
        "0.50"
       ]
      },
      {
       "output_type": "stream",
       "stream": "stdout",
       "text": [
        "\n",
        "0.50"
       ]
      },
      {
       "output_type": "stream",
       "stream": "stdout",
       "text": [
        "\n",
        "0.50"
       ]
      },
      {
       "output_type": "stream",
       "stream": "stdout",
       "text": [
        "\n",
        "0.50"
       ]
      },
      {
       "output_type": "stream",
       "stream": "stdout",
       "text": [
        "\n",
        "0.50"
       ]
      },
      {
       "output_type": "stream",
       "stream": "stdout",
       "text": [
        "\n",
        "0.50"
       ]
      },
      {
       "output_type": "stream",
       "stream": "stdout",
       "text": [
        "\n",
        "0.50"
       ]
      },
      {
       "output_type": "stream",
       "stream": "stdout",
       "text": [
        "\n",
        "0.50"
       ]
      },
      {
       "output_type": "stream",
       "stream": "stdout",
       "text": [
        "\n",
        "0.50"
       ]
      },
      {
       "output_type": "stream",
       "stream": "stdout",
       "text": [
        "\n",
        "0.50"
       ]
      },
      {
       "output_type": "stream",
       "stream": "stdout",
       "text": [
        "\n",
        "0.50"
       ]
      },
      {
       "output_type": "stream",
       "stream": "stdout",
       "text": [
        "\n",
        "0.50"
       ]
      },
      {
       "output_type": "stream",
       "stream": "stdout",
       "text": [
        "\n",
        "0.50"
       ]
      },
      {
       "output_type": "stream",
       "stream": "stdout",
       "text": [
        "\n",
        "0.50"
       ]
      },
      {
       "output_type": "stream",
       "stream": "stdout",
       "text": [
        "\n",
        "0.50"
       ]
      },
      {
       "output_type": "stream",
       "stream": "stdout",
       "text": [
        "\n",
        "0.50"
       ]
      },
      {
       "output_type": "stream",
       "stream": "stdout",
       "text": [
        "\n",
        "0.50"
       ]
      },
      {
       "output_type": "stream",
       "stream": "stdout",
       "text": [
        "\n",
        "0.50"
       ]
      },
      {
       "output_type": "stream",
       "stream": "stdout",
       "text": [
        "\n",
        "0.49"
       ]
      },
      {
       "output_type": "stream",
       "stream": "stdout",
       "text": [
        "\n",
        "0.49"
       ]
      },
      {
       "output_type": "stream",
       "stream": "stdout",
       "text": [
        "\n",
        "0.49"
       ]
      },
      {
       "output_type": "stream",
       "stream": "stdout",
       "text": [
        "\n",
        "0.49"
       ]
      },
      {
       "output_type": "stream",
       "stream": "stdout",
       "text": [
        "\n",
        "0.49"
       ]
      },
      {
       "output_type": "stream",
       "stream": "stdout",
       "text": [
        "\n",
        "0.49"
       ]
      },
      {
       "output_type": "stream",
       "stream": "stdout",
       "text": [
        "\n",
        "0.49"
       ]
      },
      {
       "output_type": "stream",
       "stream": "stdout",
       "text": [
        "\n",
        "0.49"
       ]
      },
      {
       "output_type": "stream",
       "stream": "stdout",
       "text": [
        "\n",
        "0.49"
       ]
      },
      {
       "output_type": "stream",
       "stream": "stdout",
       "text": [
        "\n",
        "0.49"
       ]
      },
      {
       "output_type": "stream",
       "stream": "stdout",
       "text": [
        "\n",
        "0.49"
       ]
      },
      {
       "output_type": "stream",
       "stream": "stdout",
       "text": [
        "\n",
        "0.49"
       ]
      },
      {
       "output_type": "stream",
       "stream": "stdout",
       "text": [
        "\n",
        "0.49"
       ]
      },
      {
       "output_type": "stream",
       "stream": "stdout",
       "text": [
        "\n",
        "0.49"
       ]
      },
      {
       "output_type": "stream",
       "stream": "stdout",
       "text": [
        "\n",
        "0.49"
       ]
      },
      {
       "output_type": "stream",
       "stream": "stdout",
       "text": [
        "\n",
        "0.49"
       ]
      },
      {
       "output_type": "stream",
       "stream": "stdout",
       "text": [
        "\n",
        "LBFGSError('A rounding error occurred; alternatively, no line-search step satisfies the sufficient decrease and curvature conditions.',)"
       ]
      },
      {
       "output_type": "stream",
       "stream": "stdout",
       "text": [
        "\n",
        "accuracy 0.915\n",
        "[[193   1   2   2   1   1   2   2   0   0]\n",
        " [  2 156   6   2   2   2   3   1   1   0]\n",
        " [  3   5 185   0   6   0   5   5   4   0]\n",
        " [  1   6   2 187   1   4   2   1   5   1]\n",
        " [  1   2   3   1 202   4   1   4   1   3]\n",
        " [  0   2   0   4   1 183   0   2   0   3]\n",
        " [  1   2   2   0   0   0 199   1   8   0]\n",
        " [  2   4   0   0   1   1   0 170   1   3]\n",
        " [  0   1   2   5   4   0   6   1 180   0]\n",
        " [  0   4   1   0   0   3   0   1   3 175]]\n",
        "CPU times: user 2min 51s, sys: 14.4 s, total: 3min 5s\n",
        "Wall time: 2min 59s\n"
       ]
      }
     ],
     "prompt_number": 6
    },
    {
     "cell_type": "code",
     "collapsed": false,
     "input": [],
     "language": "python",
     "metadata": {},
     "outputs": []
    }
   ],
   "metadata": {}
  }
 ]
}