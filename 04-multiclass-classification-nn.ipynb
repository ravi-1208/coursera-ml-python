{
 "metadata": {
  "name": ""
 },
 "nbformat": 3,
 "nbformat_minor": 0,
 "worksheets": [
  {
   "cells": [
    {
     "cell_type": "code",
     "collapsed": false,
     "input": [
      "# it's in mat format in the course, but can be convert to txt in octave: \n",
      "# load('ex3weights.mat');\n",
      "# save('ex3theta1.txt', 'Theta1', '-ascii')\n",
      "# save('ex3theta2.txt', 'Theta2', '-ascii')\n",
      "\n",
      "def load_theta():\n",
      "    theta1 = np.array([map(float, line.split()) for line in open('data/ex3theta1.txt')], np.float)\n",
      "    theta2 = np.array([map(float, line.split()) for line in open('data/ex3theta2.txt')], np.float)\n",
      "    print theta1.shape, theta2.shape\n",
      "    return theta1, theta2\n",
      "\n",
      "theta1, theta2 = load_theta()"
     ],
     "language": "python",
     "metadata": {},
     "outputs": [
      {
       "output_type": "stream",
       "stream": "stdout",
       "text": [
        "(25, 401) (10, 26)\n"
       ]
      }
     ],
     "prompt_number": 1
    },
    {
     "cell_type": "code",
     "collapsed": false,
     "input": [
      "import numpy\n",
      "\n",
      "def load_dataset():\n",
      "    data = []\n",
      "    y = []    \n",
      "    for line in open('data/ex3data1.txt'):\n",
      "        data.append(map(double, line.split()))\n",
      "    for line in open('data/ex3data1.y.txt'):\n",
      "        y.append(int(float(line.strip())))\n",
      "        \n",
      "    return np.array(data, np.double), np.array(y, np.int)\n",
      "    \n",
      "X, y = load_dataset()"
     ],
     "language": "python",
     "metadata": {},
     "outputs": [],
     "prompt_number": 2
    },
    {
     "cell_type": "code",
     "collapsed": false,
     "input": [
      "from sklearn.base import BaseEstimator\n",
      "from sklearn.metrics import confusion_matrix, f1_score\n",
      "import numpy as np\n",
      "\n",
      "class NN(BaseEstimator):\n",
      "    \n",
      "    def __init__(self, theta1, theta2):\n",
      "        self.theta1 = theta1\n",
      "        self.theta2 = theta2\n",
      "        super(NN, self).__init__()\n",
      "        \n",
      "    def fit(self):\n",
      "        return self\n",
      "    \n",
      "    def _sigmoid(self, X):\n",
      "        return 1 / (1 + np.exp(-X))\n",
      "    \n",
      "    def predict(self, X):\n",
      "        X2 = np.hstack((np.ones((X.shape[0], 1)), X))\n",
      "        X3 = self._sigmoid(np.dot(X2, theta1.T))\n",
      "        X3 = np.hstack((np.ones((X3.shape[0], 1)), X3))\n",
      "        y = self._sigmoid(np.dot(X3, theta2.T))\n",
      "        return np.argmax(y, axis=1) + 1\n",
      "        \n",
      "clf = NN(theta1, theta2)\n",
      "predicted = clf.predict(X)\n",
      "print confusion_matrix(predicted, y)\n",
      "print f1_score(predicted, y)"
     ],
     "language": "python",
     "metadata": {},
     "outputs": [
      {
       "output_type": "stream",
       "stream": "stdout",
       "text": [
        "[[491   1   2   2   0   2   3   4   2   0]\n",
        " [  1 485   2   2   1   0   2   1   0   0]\n",
        " [  1   0 480   0   4   0   1   1   4   0]\n",
        " [  2   3   0 484   1   0   4   2   2   1]\n",
        " [  0   1   8   0 492   3   0   1   1   0]\n",
        " [  0   3   1   3   2 493   0   0   1   1]\n",
        " [  1   1   4   0   0   0 485   0   5   0]\n",
        " [  3   2   1   1   0   0   0 491   3   1]\n",
        " [  1   1   2   8   0   0   4   0 479   1]\n",
        " [  0   3   0   0   0   2   1   0   3 496]]\n",
        "0.9752233156\n"
       ]
      }
     ],
     "prompt_number": 3
    },
    {
     "cell_type": "code",
     "collapsed": false,
     "input": [],
     "language": "python",
     "metadata": {},
     "outputs": []
    }
   ],
   "metadata": {}
  }
 ]
}