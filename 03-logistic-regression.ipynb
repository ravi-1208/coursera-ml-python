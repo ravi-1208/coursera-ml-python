{
 "metadata": {
  "name": ""
 },
 "nbformat": 3,
 "nbformat_minor": 0,
 "worksheets": [
  {
   "cells": [
    {
     "cell_type": "code",
     "collapsed": false,
     "input": [
      "import numpy as np\n",
      "\n",
      "def load_dataset(fname='ex2data1.txt'):\n",
      "    \"\"\"\n",
      "    load a (X,y) tuple while X is a n_samples * n_features numpy array and y is the label.\n",
      "    \"\"\"\n",
      "    X = []\n",
      "    y = []\n",
      "    for line in open(fname):\n",
      "        rows = [float(x) for x in line.split(',')]\n",
      "        X.append(rows[0:2])\n",
      "        y.append(rows[-1])\n",
      "    return np.array(X, np.float), np.array(y, int)\n",
      "\n",
      "X, y = load_dataset()"
     ],
     "language": "python",
     "metadata": {},
     "outputs": [],
     "prompt_number": 11
    },
    {
     "cell_type": "code",
     "collapsed": false,
     "input": [
      "from sklearn.base import BaseEstimator\n",
      "import lbfgs\n",
      "\n",
      "def sigmoid(X, theta):\n",
      "    return 1 / (1 + np.exp(-np.dot(X, theta)))\n",
      "\n",
      "class LogisticRegression(BaseEstimator):\n",
      "    def __init__(self, algorithm='iterative', alpha=0.01, max_iters=100, tols=0.000001):\n",
      "        self.algorithm = algorithm\n",
      "        self.alpha = alpha\n",
      "        self.max_iters = max_iters\n",
      "        self.tols = tols\n",
      "        self.histories_ = []\n",
      "        \n",
      "    def _compute_gradient(self, X, y):\n",
      "        m = X.shape[0]\n",
      "        predicted = self.predict(X)\n",
      "        error = predicted - y\n",
      "        return np.dot(X.T, error) / m\n",
      "    \n",
      "    def _compute_cost(self, X, y):\n",
      "        m = X.shape[0]        \n",
      "        predicted = self.predict(X)\n",
      "        return -1.0* sum(y * log(predicted) + (1 - y) * log(1 - predicted)) / m\n",
      "                \n",
      "    def fit(self, X, y):\n",
      "        m, n = X.shape\n",
      "        self.theta = np.zeros(n)        \n",
      "        \n",
      "        if self.algorithm == 'iterative':\n",
      "            i = 0\n",
      "            prep_J = 0\n",
      "            while i < self.max_iters:\n",
      "                self.theta = self.theta - self.alpha * self._compute_gradient(X, y)\n",
      "                J = self._compute_cost(X, y)\n",
      "                if abs(J - prep_J) <= self.tols:\n",
      "                    break\n",
      "                else:\n",
      "                    prep_J = J\n",
      "                    self.histories_.append(J)                \n",
      "                    i += 1\n",
      "            if i == self.max_iters:\n",
      "                import logging\n",
      "                logging.warn('%s not converged' % str(self))\n",
      "                \n",
      "        elif self.algorithm == 'lbfgs':\n",
      "            \n",
      "            def f(theta, g):\n",
      "                self.theta[:] = theta\n",
      "                m = X.shape[0]    \n",
      "                predicted = sigmoid(X, theta)\n",
      "                g[:] = fprime(theta) \n",
      "                return -sum(y * log(predicted) + (1 - y) * log(1 - predicted)) / m\n",
      "\n",
      "            def fprime(theta):\n",
      "                m = X.shape[0]\n",
      "                predicted = sigmoid(X, theta)\n",
      "                error = predicted - y\n",
      "                return np.dot(X.T, error) / m\n",
      "            \n",
      "            def progress(x, g, f_x, xnorm, gnorm, step, k, ls):\n",
      "                self.histories_.append(f_x)\n",
      "\n",
      "            x0 = np.zeros(n)\n",
      "            lbfgs.fmin_lbfgs(f, x0, progress)\n",
      "            \n",
      "    def predict(self, X):\n",
      "        return sigmoid(X, self.theta)\n",
      "    \n",
      "X, y = load_dataset()    \n",
      "lr = LogisticRegression(alpha=0.0001, max_iters=10000)\n",
      "lr.fit(X, y)\n",
      "print 'lr.theta', lr.theta\n",
      "\n",
      "lr2 = LogisticRegression(algorithm='lbfgs')\n",
      "lr2.fit(X, y)\n",
      "print 'lr2.theta', lr2.theta\n",
      "\n",
      "import matplotlib.pyplot as plt\n",
      "x1 = [i for i in range(len(lr.histories_))]\n",
      "y1 = lr.histories_\n",
      "\n",
      "x2 = [i for i in range(len(lr2.histories_))]\n",
      "y2 = lr2.histories_\n",
      "\n",
      "plt.plot(x1, y1)\n",
      "plt.plot(x2, y2, 'r')\n",
      "\n",
      "plt.xlabel('# iterations')\n",
      "plt.ylabel('cost function')\n",
      "plt.show()\n",
      "    "
     ],
     "language": "python",
     "metadata": {},
     "outputs": [
      {
       "output_type": "stream",
       "stream": "stdout",
       "text": [
        "lr.theta [ 0.00953953  0.00131747]\n",
        "lr2.theta [ 0.01042526  0.00045203]\n"
       ]
      },
      {
       "metadata": {},
       "output_type": "display_data",
       "png": "[encoded data removed]",
       "text": [
        "<matplotlib.figure.Figure at 0x10b80b210>"
       ]
      }
     ],
     "prompt_number": 12
    },
    {
     "cell_type": "code",
     "collapsed": false,
     "input": [
      "X, y = load_dataset()    \n",
      "lr = LogisticRegression(alpha=0.0001, max_iters=300)\n",
      "lr.fit(X, y)\n",
      "print lr.theta\n",
      "\n",
      "lr2 = LogisticRegression(algorithm='lbfgs')\n",
      "lr2.fit(X, y)\n",
      "\n",
      "import matplotlib.pyplot as plt\n",
      "x1 = [i for i in range(len(lr.histories_))]\n",
      "y1 = lr.histories_\n",
      "\n",
      "x2 = [i for i in range(len(lr2.histories_))]\n",
      "y2 = lr2.histories_\n",
      "\n",
      "plt.xlabel('# iterations')\n",
      "plt.ylabel('cost function')\n",
      "plt.plot(x1, y1)\n",
      "plt.plot(x2, y2, 'r')\n",
      "plt.show()"
     ],
     "language": "python",
     "metadata": {},
     "outputs": [
      {
       "output_type": "stream",
       "stream": "stdout",
       "text": [
        "[ 0.00953953  0.00131747]\n"
       ]
      },
      {
       "metadata": {},
       "output_type": "display_data",
       "png": "[encoded data removed]",
       "text": [
        "<matplotlib.figure.Figure at 0x10b7ea0d0>"
       ]
      }
     ],
     "prompt_number": 13
    },
    {
     "cell_type": "code",
     "collapsed": false,
     "input": [
      "import matplotlib.pyplot as plt\n",
      "\n",
      "positive = X[y==1]\n",
      "negative = X[y==0]\n",
      "\n",
      "x1 = positive[:, 0]\n",
      "y1 = positive[:, 1]\n",
      "plt.plot(x1, y1, 'k+')\n",
      "\n",
      "x2 = negative[:, 0]\n",
      "y2 = negative[:, 1]\n",
      "plt.plot(x2, y2, 'ko')\n",
      "\n",
      "xlabel('Exam 1 score')\n",
      "ylabel('Exam 2 score')\n",
      "\n",
      "plt.show()"
     ],
     "language": "python",
     "metadata": {},
     "outputs": [
      {
       "metadata": {},
       "output_type": "display_data",
       "png": "[encoded data removed]",
       "text": [
        "<matplotlib.figure.Figure at 0x10b838550>"
       ]
      }
     ],
     "prompt_number": 14
    },
    {
     "cell_type": "markdown",
     "metadata": {},
     "source": [
      "## Cost function\u7684\u63a8\u5bfc\n",
      "\n",
      "- sigmoid\u51fd\u6570 $$ h(\\theta) = \\frac{1}{1+ e^{-\\theta*x}} $$\n",
      "\n",
      "- $$ p(y = 1|x;\\theta) = h_{\\theta}(x) $$ \n",
      "- $$ p(y = 0|x;\\theta) = 1- h_{\\theta}(x) $$ \n",
      "\n",
      "\u53ef\u4ee5\u5199\u6210\u66f4\u52a0\u7d27\u51d1\u7684\u5f62\u5f0f:\n",
      "\n",
      "$$ p(y| x; \\theta) = h_{\\theta}(x)^y * (1 - h_{\\theta}(x)) ^ {1 - y} $$\n",
      "\n",
      "(\u56e0\u4e3ay=1\u65f6, \u540e\u8005\u4e3a1, y=0\u65f6, \u524d\u8005\u4e3a1)\n",
      "\n",
      "\u5047\u8bbe\u662f\u72ec\u7acb\u7684, \u6240\u4ee5\u4f3c\u7136\u51fd\u6570\u5b9a\u4e49\u5982\u4e0b:\n",
      "\n",
      "$$ L(\\theta) = \\prod p(y^i | \\theta; x^i) $$\n",
      "\n",
      "\u800c\u5bf9\u6570\u4f3c\u7136\u51fd\u6570\u662f:\n",
      "\n",
      "$$ log(L) = \\sum_{i=1}^{m} y^{i} log(h(\\theta)) + (1 - y^i) log (1 - h(\\theta)) $$\n",
      "->\n",
      "$$ \\sum_{i=1}^{m} y^i log \\frac{h(\\theta)}{1 - h(\\theta)} + log (1 - h(\\theta)) $$\n",
      "\n",
      "\n",
      "\u56e0\u4e3a $$ log \\frac{h(\\theta)}{1-h(\\theta)} = \\theta *x $$\n",
      "\n",
      "\u6240\u4ee5\u4e0a\u5f0f\u5199\u6210:\n",
      "\n",
      "$$ \\sum_{i=1}^{m} (y^i * \\theta * x + log (\\frac{1}{1 + e^{\\theta*x}}) $$\n",
      "\n",
      "\u5bf9$$$\\theta$$$\u6c42\u504f\u5bfc\u6709:\n",
      "\n",
      "$$ y^{i} x^{i} - \\frac{e^{\\theta*x} * x^{i}}{1+e^{\\theta*x}} $$\n",
      "\n",
      "\u800c $$ h(\\theta) = \\frac{1}{1+ e^{-w*x}} = \\frac{e^{\\theta*x}}{1+e^{\\theta*x}} $$ \u6240\u4ee5\u504f\u5bfc\u53ef\u4ee5\u5199\u6210:\n",
      "\n",
      "$$  (y^{i} - h_{\\theta}(x)) * x^{i} $$\n",
      "\n",
      "\u56e0\u4e3alinear regression\u4e2d\u7528gradient descent\u6c42\u6781\u5c0f\u503c, \u800c\u6b64\u5904\u7684log\u4f3c\u7136\u51fd\u6570\u8981\u6c42\u6781\u5927\u503c, \u6240\u4ee5\u628acost function\u81f3\u53cd, \u4ece\u800c\u6c42\u6781\u5c0f\u503c.\n",
      "\n",
      "## TODO\n",
      "- logistic regression + regualization term\u7684\u504f\u5bfc\u6570\u63a8\u5bfc\n",
      "- why the decision boundary is more smooth after adding regurlization term"
     ]
    },
    {
     "cell_type": "markdown",
     "metadata": {},
     "source": [
      "<https://groups.google.com/forum/#!topic/scipy-user/MmdXqFBigIg>"
     ]
    }
   ],
   "metadata": {}
  }
 ]
}