{
 "metadata": {
  "name": ""
 },
 "nbformat": 3,
 "nbformat_minor": 0,
 "worksheets": [
  {
   "cells": [
    {
     "cell_type": "markdown",
     "metadata": {},
     "source": [
      "## Week2 Linear Regression\n"
     ]
    },
    {
     "cell_type": "code",
     "collapsed": false,
     "input": [
      "from sklearn.base import BaseEstimator\n",
      "from sklearn.preprocessing import MinMaxScaler, StandardScaler\n",
      "import numpy as np\n",
      "\n",
      "def load_dataset(fname='data/ex1data2.txt'):\n",
      "    \"\"\"\n",
      "    load a (X,y) tuple while X is a n_samples * n_features numpy array and y is the label.\n",
      "    \"\"\"\n",
      "    X = []\n",
      "    y = []\n",
      "    for line in open(fname):\n",
      "        rows = [int(x) for x in line.split(',')]\n",
      "        X.append(rows[0:2])\n",
      "        y.append(rows[-1])\n",
      "    return np.array(X, float32), np.array(y, int)\n",
      "\n",
      "class LinearRegression(BaseEstimator):\n",
      "    \"\"\"\n",
      "    implement the linear regression with gradient descent.\n",
      "    \"\"\"\n",
      "    def __init__(self, alpha=0.3, max_iters=100, tols=0.001):\n",
      "        # learning rate\n",
      "        self.alpha = alpha\n",
      "        self.max_iters = max_iters\n",
      "        self.tols = tols\n",
      "        self.histories_ = []\n",
      "        \n",
      "    def fit(self, X, y):\n",
      "        i = 0\n",
      "        prep_J = 0\n",
      "        m, n = X.shape\n",
      "        self.theta = np.zeros(n)\n",
      "        \n",
      "        while i < self.max_iters:\n",
      "     \n",
      "            self.theta = self.theta - self.alpha * self._compute_gradient(X, y)\n",
      "            J = self._compute_cost(X, y)\n",
      "            if abs(J - prep_J) <= self.tols:\n",
      "                print 'converged'\n",
      "                break\n",
      "            else:\n",
      "              #  print 'iteration %s cost function %s' %(i, J)\n",
      "                prep_J = J\n",
      "            self.histories_.append(J)                \n",
      "            i += 1\n",
      "            \n",
      "    def predict(self, X):\n",
      "        return np.dot(X, self.theta)\n",
      "    \n",
      "    def _compute_cost(self, X, y):\n",
      "        m = X.shape[0]\n",
      "        predicted = self.predict(X)\n",
      "        error = predicted - y\n",
      "        return np.dot(error.T, error) / (2 * m) \n",
      "    \n",
      "    def _compute_gradient(self, X, y):\n",
      "        predicted = self.predict(X)\n",
      "        error = predicted - y        \n",
      "        m = X.shape[0]\n",
      "        return np.dot(X.T, error) / m\n",
      "        \n",
      "X, y = load_dataset()\n",
      "min_max_scalar = MinMaxScaler()\n",
      "lr = LinearRegression()\n",
      "X_scaled = min_max_scalar.fit_transform(X)\n",
      "X = np.concatenate((np.ones((X.shape[0], 1)), X_scaled), axis=1)\n",
      "lr.fit(X, y)\n",
      "\n",
      "X, y = load_dataset()\n",
      "lr2 = LinearRegression()\n",
      "scaler = StandardScaler()\n",
      "X_scaled = scaler.fit_transform(X)\n",
      "X = np.concatenate((np.ones((X.shape[0], 1)), X_scaled), axis=1)\n",
      "\n",
      "lr2.fit(X, y)\n",
      "\n",
      "import matplotlib.pyplot as plt\n",
      "x1 = [i for i in range(len(lr.histories_))]\n",
      "y1 = lr.histories_\n",
      "x2 = [i for i in range(len(lr2.histories_))]\n",
      "y2 = lr2.histories_\n",
      "plt.xlabel('# iterations')\n",
      "plt.ylabel('cost function')\n",
      "\n",
      "plt.plot(x1, y1)\n",
      "plt.plot(x2, y2, 'r')\n",
      "plt.show()\n",
      "\n",
      "test = np.array([1650, 3], float32)\n",
      "print 'predicted', np.dot(np.hstack((1, min_max_scalar.transform(test))), lr.theta)\n",
      "print 'predicted', np.dot(np.hstack((1, scaler.transform(test))), lr2.theta)\n",
      "    "
     ],
     "language": "python",
     "metadata": {},
     "outputs": [
      {
       "output_type": "stream",
       "stream": "stdout",
       "text": [
        "converged\n"
       ]
      },
      {
       "metadata": {},
       "output_type": "display_data",
       "png": "[encoded data removed]",
       "text": [
        "<matplotlib.figure.Figure at 0x10b37d350>"
       ]
      },
      {
       "output_type": "stream",
       "stream": "stdout",
       "text": [
        "predicted 303997.639902\n",
        "predicted 293081.47949\n"
       ]
      }
     ],
     "prompt_number": 2
    },
    {
     "cell_type": "markdown",
     "metadata": {},
     "source": [
      "### Some notes\n",
      "\n",
      "- seems like the linear regression will not converge if not scale the features. same in octave."
     ]
    }
   ],
   "metadata": {}
  }
 ]
}