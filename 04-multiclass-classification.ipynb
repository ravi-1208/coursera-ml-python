{
 "metadata": {
  "name": ""
 },
 "nbformat": 3,
 "nbformat_minor": 0,
 "worksheets": [
  {
   "cells": [
    {
     "cell_type": "code",
     "collapsed": false,
     "input": [
      "# load the ex3data1\n",
      "# it's in mat format in the course, but can be convert to txt in octave: \n",
      "# save('ex3data1.txt', 'X', '-ascii')\n",
      "# save('ex3data1.y.txt', 'y', '-ascii')\n",
      "\n",
      "import numpy as np\n",
      "\n",
      "def load_dataset():\n",
      "    data = []\n",
      "    y = []    \n",
      "    for line in open('ex3data1.txt'):\n",
      "        data.append(map(double, line.split()))\n",
      "    for line in open('ex3data1.y.txt'):\n",
      "        y.append(int(float(line.strip())))\n",
      "        \n",
      "    return np.array(data, np.double), np.array(y, np.int)\n",
      "    \n",
      "X, y = load_dataset()"
     ],
     "language": "python",
     "metadata": {},
     "outputs": [],
     "prompt_number": 86
    },
    {
     "cell_type": "code",
     "collapsed": false,
     "input": [
      "%%time\n",
      "\n",
      "from sklearn.base import BaseEstimator\n",
      "from lbfgs import LBFGS\n",
      "import lbfgs\n",
      "\n",
      "def sigmoid(X, theta):\n",
      "    return 1 / (1 + np.exp(-np.dot(X, theta)))\n",
      "\n",
      "def f(theta, g, lr, X, y):\n",
      "    lr.theta[:] = theta\n",
      "    m = X.shape[0]\n",
      "    predicted = sigmoid(X, theta)\n",
      "    g[:] = gradient(theta, X, y)\n",
      "    return -np.sum(1.0* y * log(predicted) + (1 - y) * log(1 - predicted)) / m\n",
      "\n",
      "def gradient(theta, X, y):\n",
      "    m = X.shape[0]\n",
      "    predicted = sigmoid(X, theta)\n",
      "    error = predicted - y\n",
      "    return np.dot(X.T, error) / m                \n",
      "\n",
      "class LogisticRegression(BaseEstimator):\n",
      "    \n",
      "    def fit(self, X, y):\n",
      "        n = X.shape[1]\n",
      "        x0 = np.zeros(n)\n",
      "        self.theta = np.zeros(n)\n",
      "        opt = LBFGS()\n",
      "        try:\n",
      "            opt.minimize(f, x0, args=[self, X, y])\n",
      "        except Exception, e:\n",
      "            print repr(e)\n",
      "        return self\n",
      "        \n",
      "    def predict_proba(self, X):\n",
      "        positive = sigmoid(X, self.theta).reshape(X.shape[0], 1)\n",
      "        return np.hstack((1-positive, positive))\n",
      "    \n",
      "lr = LogisticRegression()\n",
      "lr.fit(X, y == 10)"
     ],
     "language": "python",
     "metadata": {},
     "outputs": [
      {
       "output_type": "stream",
       "stream": "stdout",
       "text": [
        "LBFGSError('The line-search routine reaches the maximum number of evaluations.',)\n",
        "CPU times: user 1.13 s, sys: 27.3 ms, total: 1.15 s\n",
        "Wall time: 416 ms\n"
       ]
      }
     ],
     "prompt_number": 101
    },
    {
     "cell_type": "code",
     "collapsed": false,
     "input": [
      "%%time\n",
      "from sklearn.cross_validation import train_test_split\n",
      "from sklearn.multiclass import OneVsRestClassifier\n",
      "ovr = OneVsRestClassifier(LogisticRegression())\n",
      "X_train, X_test, y_train, y_test = train_test_split(X, y, test_size=0.4)\n",
      "ovr.fit(X_train, y_train)\n",
      "print ovr.estimators_"
     ],
     "language": "python",
     "metadata": {},
     "outputs": [
      {
       "output_type": "stream",
       "stream": "stdout",
       "text": [
        "LBFGSError('The line-search routine reaches the maximum number of evaluations.',)\n",
        "LBFGSError('The line-search routine reaches the maximum number of evaluations.',)"
       ]
      },
      {
       "output_type": "stream",
       "stream": "stdout",
       "text": [
        "\n",
        "LBFGSError('The line-search routine reaches the maximum number of evaluations.',)"
       ]
      },
      {
       "output_type": "stream",
       "stream": "stdout",
       "text": [
        "\n",
        "LBFGSError('The line-search routine reaches the maximum number of evaluations.',)"
       ]
      },
      {
       "output_type": "stream",
       "stream": "stdout",
       "text": [
        "\n",
        "LBFGSError('The line-search routine reaches the maximum number of evaluations.',)"
       ]
      },
      {
       "output_type": "stream",
       "stream": "stdout",
       "text": [
        "\n",
        "LBFGSError('The line-search routine reaches the maximum number of evaluations.',)"
       ]
      },
      {
       "output_type": "stream",
       "stream": "stdout",
       "text": [
        "\n",
        "LBFGSError('The line-search routine reaches the maximum number of evaluations.',)"
       ]
      },
      {
       "output_type": "stream",
       "stream": "stdout",
       "text": [
        "\n",
        "LBFGSError('The line-search routine reaches the maximum number of evaluations.',)"
       ]
      },
      {
       "output_type": "stream",
       "stream": "stdout",
       "text": [
        "\n",
        "[LogisticRegression(), LogisticRegression(), LogisticRegression(), LogisticRegression(), LogisticRegression(), LogisticRegression(), LogisticRegression(), LogisticRegression(), LogisticRegression(), LogisticRegression()]\n",
        "CPU times: user 12.2 s, sys: 410 ms, total: 12.6 s\n",
        "Wall time: 4.62 s\n"
       ]
      }
     ],
     "prompt_number": 107
    },
    {
     "cell_type": "code",
     "collapsed": false,
     "input": [
      "from sklearn.metrics import confusion_matrix, accuracy_score, recall_score, precision_score\n",
      "predicted = ovr.predict(X_test)\n",
      "print 'accuracy', accuracy_score(predicted, y_test)\n",
      "print confusion_matrix(predicted, y_test)"
     ],
     "language": "python",
     "metadata": {},
     "outputs": [
      {
       "output_type": "stream",
       "stream": "stdout",
       "text": [
        "accuracy 0.873\n",
        "[[195   2   1   1   3   0   3   2   3   0]\n",
        " [  0 170   8   1   3   1   0   4   3   1]\n",
        " [  2  12 172   0  12   0   0   4   3   0]\n",
        " [  1   2   2 160   3   2   3   5   9   0]\n",
        " [  1   4   7   0 156   5   1   5   1   2]\n",
        " [  1   9   0   6   3 190   0   3   1   2]\n",
        " [  1   3   1   0   1   0 169   0   6   0]\n",
        " [  5   8   8   4  14   2   1 170   1   1]\n",
        " [  0   0   1  16   3   0  14   3 166   0]\n",
        " [  0   0   1   0   4   0   4   3   2 198]]\n"
       ]
      }
     ],
     "prompt_number": 110
    }
   ],
   "metadata": {}
  }
 ]
}